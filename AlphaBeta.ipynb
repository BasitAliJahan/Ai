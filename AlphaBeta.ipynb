{
  "nbformat": 4,
  "nbformat_minor": 0,
  "metadata": {
    "colab": {
      "provenance": []
    },
    "kernelspec": {
      "name": "python3",
      "display_name": "Python 3"
    },
    "language_info": {
      "name": "python"
    }
  },
  "cells": [
    {
      "cell_type": "code",
      "execution_count": 8,
      "metadata": {
        "colab": {
          "base_uri": "https://localhost:8080/"
        },
        "id": "rs1Fo2CfHUmJ",
        "outputId": "e2444e18-2fa5-4256-d57d-60f80c63eac3"
      },
      "outputs": [
        {
          "output_type": "stream",
          "name": "stdout",
          "text": [
            "Optimal value found using Alpha-Beta Pruning: 5\n"
          ]
        }
      ],
      "source": [
        "import math\n",
        "def alpha_beta(depth, nodeIndex, maximizingPlayer, values, alpha, beta, maxDepth):\n",
        "    if depth == maxDepth:\n",
        "        return values[nodeIndex]\n",
        "\n",
        "    if maximizingPlayer:\n",
        "        best = -math.inf\n",
        "        for i in range(2):\n",
        "            val = alpha_beta(depth + 1, nodeIndex * 2 + i, False, values, alpha, beta, maxDepth)\n",
        "            best = max(best, val)\n",
        "            alpha = max(alpha, best)\n",
        "\n",
        "            if beta <= alpha:\n",
        "                break\n",
        "        return best\n",
        "    else:\n",
        "        best = math.inf\n",
        "        for i in range(2):\n",
        "            val = alpha_beta(depth + 1, nodeIndex * 2 + i, True, values, alpha, beta, maxDepth)\n",
        "            best = min(best, val)\n",
        "            beta = min(beta, best)\n",
        "\n",
        "            if beta <= alpha:\n",
        "                break\n",
        "        return best\n",
        "\n",
        "\n",
        "values = [3, 5, 6, 9, 1, 2, 0, -1]\n",
        "\n",
        "maxDepth = 3\n",
        "\n",
        "optimal_value = alpha_beta(0, 0, True, values, -math.inf, math.inf, maxDepth)\n",
        "\n",
        "print(\"Optimal value found using Alpha-Beta Pruning:\", optimal_value)\n"
      ]
    }
  ]
}